{
 "cells": [
  {
   "cell_type": "code",
   "execution_count": 1,
   "metadata": {},
   "outputs": [],
   "source": [
    "import pandas as pd"
   ]
  },
  {
   "cell_type": "code",
   "execution_count": 14,
   "metadata": {},
   "outputs": [],
   "source": [
    "df = pd.read_csv('data/devwithoutlabels.txt', sep='\\t')"
   ]
  },
  {
   "cell_type": "code",
   "execution_count": 15,
   "metadata": {},
   "outputs": [
    {
     "data": {
      "text/html": [
       "<div>\n",
       "<style scoped>\n",
       "    .dataframe tbody tr th:only-of-type {\n",
       "        vertical-align: middle;\n",
       "    }\n",
       "\n",
       "    .dataframe tbody tr th {\n",
       "        vertical-align: top;\n",
       "    }\n",
       "\n",
       "    .dataframe thead th {\n",
       "        text-align: right;\n",
       "    }\n",
       "</style>\n",
       "<table border=\"1\" class=\"dataframe\">\n",
       "  <thead>\n",
       "    <tr style=\"text-align: right;\">\n",
       "      <th></th>\n",
       "      <th>id</th>\n",
       "      <th>turn1</th>\n",
       "      <th>turn2</th>\n",
       "      <th>turn3</th>\n",
       "    </tr>\n",
       "  </thead>\n",
       "  <tbody>\n",
       "    <tr>\n",
       "      <th>0</th>\n",
       "      <td>0</td>\n",
       "      <td>Then dont ask me</td>\n",
       "      <td>YOURE A GUY NOT AS IF YOU WOULD UNDERSTAND</td>\n",
       "      <td>IM NOT A GUY FUCK OFF</td>\n",
       "    </tr>\n",
       "    <tr>\n",
       "      <th>1</th>\n",
       "      <td>1</td>\n",
       "      <td>Mixed things  such as??</td>\n",
       "      <td>the things you do.</td>\n",
       "      <td>Have you seen minions??</td>\n",
       "    </tr>\n",
       "    <tr>\n",
       "      <th>2</th>\n",
       "      <td>2</td>\n",
       "      <td>Today I'm very happy</td>\n",
       "      <td>and I'm happy for you ❤</td>\n",
       "      <td>I will be marry</td>\n",
       "    </tr>\n",
       "    <tr>\n",
       "      <th>3</th>\n",
       "      <td>3</td>\n",
       "      <td>Woah bring me some</td>\n",
       "      <td>left it there oops</td>\n",
       "      <td>Brb</td>\n",
       "    </tr>\n",
       "    <tr>\n",
       "      <th>4</th>\n",
       "      <td>4</td>\n",
       "      <td>it is thooooo</td>\n",
       "      <td>I said soon master.</td>\n",
       "      <td>he is pressuring me</td>\n",
       "    </tr>\n",
       "    <tr>\n",
       "      <th>5</th>\n",
       "      <td>5</td>\n",
       "      <td>Wont u ask my age??</td>\n",
       "      <td>hey at least I age well!</td>\n",
       "      <td>Can u tell me how can we get closer??</td>\n",
       "    </tr>\n",
       "    <tr>\n",
       "      <th>6</th>\n",
       "      <td>6</td>\n",
       "      <td>I said yes</td>\n",
       "      <td>What if I told you I'm not?</td>\n",
       "      <td>Go to hell</td>\n",
       "    </tr>\n",
       "    <tr>\n",
       "      <th>7</th>\n",
       "      <td>7</td>\n",
       "      <td>Where I ll check</td>\n",
       "      <td>why tomorrow?</td>\n",
       "      <td>No I want now</td>\n",
       "    </tr>\n",
       "    <tr>\n",
       "      <th>8</th>\n",
       "      <td>8</td>\n",
       "      <td>Shall we meet</td>\n",
       "      <td>you say- you're leaving soon...anywhere you wa...</td>\n",
       "      <td>?</td>\n",
       "    </tr>\n",
       "    <tr>\n",
       "      <th>9</th>\n",
       "      <td>9</td>\n",
       "      <td>Let's change the subject</td>\n",
       "      <td>I just did it .l.</td>\n",
       "      <td>You're broken</td>\n",
       "    </tr>\n",
       "  </tbody>\n",
       "</table>\n",
       "</div>"
      ],
      "text/plain": [
       "   id                     turn1  \\\n",
       "0   0          Then dont ask me   \n",
       "1   1   Mixed things  such as??   \n",
       "2   2      Today I'm very happy   \n",
       "3   3        Woah bring me some   \n",
       "4   4             it is thooooo   \n",
       "5   5       Wont u ask my age??   \n",
       "6   6                I said yes   \n",
       "7   7          Where I ll check   \n",
       "8   8             Shall we meet   \n",
       "9   9  Let's change the subject   \n",
       "\n",
       "                                               turn2  \\\n",
       "0         YOURE A GUY NOT AS IF YOU WOULD UNDERSTAND   \n",
       "1                                 the things you do.   \n",
       "2                            and I'm happy for you ❤   \n",
       "3                                 left it there oops   \n",
       "4                                I said soon master.   \n",
       "5                           hey at least I age well!   \n",
       "6                        What if I told you I'm not?   \n",
       "7                                      why tomorrow?   \n",
       "8  you say- you're leaving soon...anywhere you wa...   \n",
       "9                                  I just did it .l.   \n",
       "\n",
       "                                   turn3  \n",
       "0                  IM NOT A GUY FUCK OFF  \n",
       "1                Have you seen minions??  \n",
       "2                        I will be marry  \n",
       "3                                    Brb  \n",
       "4                    he is pressuring me  \n",
       "5  Can u tell me how can we get closer??  \n",
       "6                             Go to hell  \n",
       "7                          No I want now  \n",
       "8                                      ?  \n",
       "9                          You're broken  "
      ]
     },
     "execution_count": 15,
     "metadata": {},
     "output_type": "execute_result"
    }
   ],
   "source": [
    "df.head(10)"
   ]
  },
  {
   "cell_type": "code",
   "execution_count": 16,
   "metadata": {},
   "outputs": [],
   "source": [
    "turn1 = df.turn1.values\n",
    "turn2 = df.turn2.values\n",
    "turn3 = df.turn3.values"
   ]
  },
  {
   "cell_type": "code",
   "execution_count": 17,
   "metadata": {},
   "outputs": [],
   "source": [
    "import os\n",
    "import pickle\n",
    "\n",
    "def read_slangdict():\n",
    "    filename = \"slangdict.pickle\"\n",
    "    if os.path.isfile(filename):\n",
    "        print(\"Reading data...\")\n",
    "        data = pickle.load(open(filename, 'rb'))\n",
    "        return data"
   ]
  },
  {
   "cell_type": "code",
   "execution_count": 18,
   "metadata": {},
   "outputs": [
    {
     "name": "stdout",
     "output_type": "stream",
     "text": [
      "Reading data...\n"
     ]
    }
   ],
   "source": [
    "slang_dict = read_slangdict()"
   ]
  },
  {
   "cell_type": "code",
   "execution_count": 19,
   "metadata": {},
   "outputs": [
    {
     "name": "stdout",
     "output_type": "stream",
     "text": [
      "Reading twitter_2018 - 1grams ...\n",
      "Reading twitter_2018 - 2grams ...\n",
      "Reading twitter_2018 - 1grams ...\n"
     ]
    }
   ],
   "source": [
    "from ekphrasis.classes.preprocessor import TextPreProcessor\n",
    "from ekphrasis.classes.tokenizer import SocialTokenizer\n",
    "from ekphrasis.dicts.emoticons import emoticons\n",
    "# import json\n",
    "\n",
    "# with open('emoji/emoji_ranks_data_story.json', 'r') as fn:\n",
    "#     emoticons = json.load(fn)\n",
    "\n",
    "def ws_tokenizer(text):\n",
    "    return text.split()\n",
    "\n",
    "\n",
    "text_processor = TextPreProcessor(\n",
    "    normalize=['url', 'email', 'percent', 'money', 'phone', 'user', 'time',\n",
    "               'date', 'number'],\n",
    "    annotate={\"hashtag\", \"elongated\", \"allcaps\", \"repeated\", 'emphasis',\n",
    "              'censored'},\n",
    "    all_caps_tag=\"wrap\",\n",
    "    fix_text=True,\n",
    "    segmenter=\"twitter_2018\",\n",
    "    corrector=\"twitter_2018\",\n",
    "    unpack_hashtags=True,\n",
    "    unpack_contractions=True,\n",
    "    spell_correct_elong=True,\n",
    "    tokenizer=SocialTokenizer(lowercase=True).tokenize,\n",
    "    dicts=[emoticons,slang_dict]\n",
    ")"
   ]
  },
  {
   "cell_type": "code",
   "execution_count": 20,
   "metadata": {},
   "outputs": [],
   "source": [
    "norm_turn1, norm_turn2, norm_turn3 = [], [], []\n",
    "\n",
    "for t1, t2, t3 in zip(turn1, turn2, turn3):\n",
    "    norm_turn1.append(\" \".join(text_processor.pre_process_doc(t1)))\n",
    "    norm_turn2.append(\" \".join(text_processor.pre_process_doc(t2)))\n",
    "    norm_turn3.append(\" \".join(text_processor.pre_process_doc(t3)))"
   ]
  },
  {
   "cell_type": "code",
   "execution_count": 21,
   "metadata": {},
   "outputs": [
    {
     "name": "stdout",
     "output_type": "stream",
     "text": [
      "[\"then don't ask me\", 'mixed things such as ? <repeated>', 'today i am very happy', 'woah bring me some', 'it is the <elongated>', 'wont u ask my age ? <repeated>', 'i said yes', 'where i ll check', 'shall we meet', 'let us change the subject', 'your picture peace', 'not mine', 'i want to play the game', 'iam sory', 'how much', 'okay', 'so the story ?', 'may be', 'so come on not applicable . <repeated> want u so badly .', 'no you are not']\n"
     ]
    }
   ],
   "source": [
    "print(norm_turn1[0:20])"
   ]
  },
  {
   "cell_type": "code",
   "execution_count": 22,
   "metadata": {},
   "outputs": [],
   "source": [
    "# label = df.label.values.tolist()\n",
    "idx = df.id.values.tolist()"
   ]
  },
  {
   "cell_type": "code",
   "execution_count": 23,
   "metadata": {},
   "outputs": [],
   "source": [
    "# norm_data = {'id': idx, 'turn1': norm_turn1, 'turn2': norm_turn2,\n",
    "#              'turn3': norm_turn3, 'label': label}\n",
    "norm_data = {'id': idx, 'turn1': norm_turn1, 'turn2': norm_turn2,\n",
    "             'turn3': norm_turn3}\n",
    "df_norm = pd.DataFrame(data=norm_data)"
   ]
  },
  {
   "cell_type": "code",
   "execution_count": 24,
   "metadata": {},
   "outputs": [
    {
     "data": {
      "text/html": [
       "<div>\n",
       "<style scoped>\n",
       "    .dataframe tbody tr th:only-of-type {\n",
       "        vertical-align: middle;\n",
       "    }\n",
       "\n",
       "    .dataframe tbody tr th {\n",
       "        vertical-align: top;\n",
       "    }\n",
       "\n",
       "    .dataframe thead th {\n",
       "        text-align: right;\n",
       "    }\n",
       "</style>\n",
       "<table border=\"1\" class=\"dataframe\">\n",
       "  <thead>\n",
       "    <tr style=\"text-align: right;\">\n",
       "      <th></th>\n",
       "      <th>id</th>\n",
       "      <th>turn1</th>\n",
       "      <th>turn2</th>\n",
       "      <th>turn3</th>\n",
       "    </tr>\n",
       "  </thead>\n",
       "  <tbody>\n",
       "    <tr>\n",
       "      <th>0</th>\n",
       "      <td>0</td>\n",
       "      <td>then don't ask me</td>\n",
       "      <td>&lt;allcaps&gt; youre a guy not as if you would unde...</td>\n",
       "      <td>&lt;allcaps&gt; Instant Message not a guy fuck off &lt;...</td>\n",
       "    </tr>\n",
       "    <tr>\n",
       "      <th>1</th>\n",
       "      <td>1</td>\n",
       "      <td>mixed things such as ? &lt;repeated&gt;</td>\n",
       "      <td>the things you do .</td>\n",
       "      <td>have you seen minions ? &lt;repeated&gt;</td>\n",
       "    </tr>\n",
       "    <tr>\n",
       "      <th>2</th>\n",
       "      <td>2</td>\n",
       "      <td>today i am very happy</td>\n",
       "      <td>and i am happy for you &lt;happy&gt;</td>\n",
       "      <td>i will be marry</td>\n",
       "    </tr>\n",
       "    <tr>\n",
       "      <th>3</th>\n",
       "      <td>3</td>\n",
       "      <td>woah bring me some</td>\n",
       "      <td>left it there oops</td>\n",
       "      <td>be right back</td>\n",
       "    </tr>\n",
       "    <tr>\n",
       "      <th>4</th>\n",
       "      <td>4</td>\n",
       "      <td>it is the &lt;elongated&gt;</td>\n",
       "      <td>i said soon master .</td>\n",
       "      <td>he is pressuring me</td>\n",
       "    </tr>\n",
       "    <tr>\n",
       "      <th>5</th>\n",
       "      <td>5</td>\n",
       "      <td>wont u ask my age ? &lt;repeated&gt;</td>\n",
       "      <td>hey at least i age well !</td>\n",
       "      <td>can u tell me how can we get closer ? &lt;repeated&gt;</td>\n",
       "    </tr>\n",
       "    <tr>\n",
       "      <th>6</th>\n",
       "      <td>6</td>\n",
       "      <td>i said yes</td>\n",
       "      <td>what if i told you i am not ?</td>\n",
       "      <td>go to hell</td>\n",
       "    </tr>\n",
       "    <tr>\n",
       "      <th>7</th>\n",
       "      <td>7</td>\n",
       "      <td>where i ll check</td>\n",
       "      <td>why tomorrow ?</td>\n",
       "      <td>no i want now</td>\n",
       "    </tr>\n",
       "    <tr>\n",
       "      <th>8</th>\n",
       "      <td>8</td>\n",
       "      <td>shall we meet</td>\n",
       "      <td>you say - you are leaving soon . &lt;repeated&gt; an...</td>\n",
       "      <td>?</td>\n",
       "    </tr>\n",
       "    <tr>\n",
       "      <th>9</th>\n",
       "      <td>9</td>\n",
       "      <td>let us change the subject</td>\n",
       "      <td>i just did it . l .</td>\n",
       "      <td>you are broken</td>\n",
       "    </tr>\n",
       "  </tbody>\n",
       "</table>\n",
       "</div>"
      ],
      "text/plain": [
       "   id                              turn1  \\\n",
       "0   0                  then don't ask me   \n",
       "1   1  mixed things such as ? <repeated>   \n",
       "2   2              today i am very happy   \n",
       "3   3                 woah bring me some   \n",
       "4   4              it is the <elongated>   \n",
       "5   5     wont u ask my age ? <repeated>   \n",
       "6   6                         i said yes   \n",
       "7   7                   where i ll check   \n",
       "8   8                      shall we meet   \n",
       "9   9          let us change the subject   \n",
       "\n",
       "                                               turn2  \\\n",
       "0  <allcaps> youre a guy not as if you would unde...   \n",
       "1                                the things you do .   \n",
       "2                     and i am happy for you <happy>   \n",
       "3                                 left it there oops   \n",
       "4                               i said soon master .   \n",
       "5                          hey at least i age well !   \n",
       "6                      what if i told you i am not ?   \n",
       "7                                     why tomorrow ?   \n",
       "8  you say - you are leaving soon . <repeated> an...   \n",
       "9                                i just did it . l .   \n",
       "\n",
       "                                               turn3  \n",
       "0  <allcaps> Instant Message not a guy fuck off <...  \n",
       "1                 have you seen minions ? <repeated>  \n",
       "2                                    i will be marry  \n",
       "3                                      be right back  \n",
       "4                                he is pressuring me  \n",
       "5   can u tell me how can we get closer ? <repeated>  \n",
       "6                                         go to hell  \n",
       "7                                      no i want now  \n",
       "8                                                  ?  \n",
       "9                                     you are broken  "
      ]
     },
     "execution_count": 24,
     "metadata": {},
     "output_type": "execute_result"
    }
   ],
   "source": [
    "df_norm.head(10)"
   ]
  },
  {
   "cell_type": "code",
   "execution_count": 25,
   "metadata": {},
   "outputs": [],
   "source": [
    "df_norm.to_csv('data/devwithoutlabels_norm_3.csv', index=None, sep='\\t')"
   ]
  },
  {
   "cell_type": "code",
   "execution_count": null,
   "metadata": {},
   "outputs": [],
   "source": []
  }
 ],
 "metadata": {
  "kernelspec": {
   "display_name": "Python 3",
   "language": "python",
   "name": "python3"
  },
  "language_info": {
   "codemirror_mode": {
    "name": "ipython",
    "version": 3
   },
   "file_extension": ".py",
   "mimetype": "text/x-python",
   "name": "python",
   "nbconvert_exporter": "python",
   "pygments_lexer": "ipython3",
   "version": "3.6.5"
  }
 },
 "nbformat": 4,
 "nbformat_minor": 2
}
